{
 "cells": [
  {
   "cell_type": "code",
   "execution_count": 1,
   "id": "4f08ec56",
   "metadata": {},
   "outputs": [],
   "source": [
    "import pandas as pd"
   ]
  },
  {
   "cell_type": "code",
   "execution_count": 2,
   "id": "43f0ec9b",
   "metadata": {},
   "outputs": [],
   "source": [
    "df = pd.read_csv('agora.csv')"
   ]
  },
  {
   "cell_type": "code",
   "execution_count": 4,
   "id": "c8a53099",
   "metadata": {},
   "outputs": [
    {
     "data": {
      "text/html": [
       "<div>\n",
       "<style scoped>\n",
       "    .dataframe tbody tr th:only-of-type {\n",
       "        vertical-align: middle;\n",
       "    }\n",
       "\n",
       "    .dataframe tbody tr th {\n",
       "        vertical-align: top;\n",
       "    }\n",
       "\n",
       "    .dataframe thead th {\n",
       "        text-align: right;\n",
       "    }\n",
       "</style>\n",
       "<table border=\"1\" class=\"dataframe\">\n",
       "  <thead>\n",
       "    <tr style=\"text-align: right;\">\n",
       "      <th></th>\n",
       "      <th>Marketing Spend</th>\n",
       "      <th>Administration</th>\n",
       "      <th>Transport</th>\n",
       "      <th>Area</th>\n",
       "      <th>Profit</th>\n",
       "    </tr>\n",
       "  </thead>\n",
       "  <tbody>\n",
       "    <tr>\n",
       "      <th>0</th>\n",
       "      <td>114523.61</td>\n",
       "      <td>136897.80</td>\n",
       "      <td>471784.10</td>\n",
       "      <td>Dhaka</td>\n",
       "      <td>192261.83</td>\n",
       "    </tr>\n",
       "    <tr>\n",
       "      <th>1</th>\n",
       "      <td>162597.70</td>\n",
       "      <td>151377.59</td>\n",
       "      <td>443898.53</td>\n",
       "      <td>Ctg</td>\n",
       "      <td>191792.06</td>\n",
       "    </tr>\n",
       "    <tr>\n",
       "      <th>2</th>\n",
       "      <td>153441.51</td>\n",
       "      <td>101145.55</td>\n",
       "      <td>407934.54</td>\n",
       "      <td>Rangpur</td>\n",
       "      <td>191050.39</td>\n",
       "    </tr>\n",
       "    <tr>\n",
       "      <th>3</th>\n",
       "      <td>144372.41</td>\n",
       "      <td>118671.85</td>\n",
       "      <td>383199.62</td>\n",
       "      <td>Dhaka</td>\n",
       "      <td>182901.99</td>\n",
       "    </tr>\n",
       "    <tr>\n",
       "      <th>4</th>\n",
       "      <td>142107.34</td>\n",
       "      <td>91391.77</td>\n",
       "      <td>366168.42</td>\n",
       "      <td>Rangpur</td>\n",
       "      <td>166187.94</td>\n",
       "    </tr>\n",
       "  </tbody>\n",
       "</table>\n",
       "</div>"
      ],
      "text/plain": [
       "   Marketing Spend  Administration  Transport     Area     Profit\n",
       "0        114523.61       136897.80  471784.10    Dhaka  192261.83\n",
       "1        162597.70       151377.59  443898.53      Ctg  191792.06\n",
       "2        153441.51       101145.55  407934.54  Rangpur  191050.39\n",
       "3        144372.41       118671.85  383199.62    Dhaka  182901.99\n",
       "4        142107.34        91391.77  366168.42  Rangpur  166187.94"
      ]
     },
     "execution_count": 4,
     "metadata": {},
     "output_type": "execute_result"
    }
   ],
   "source": [
    "df.head()"
   ]
  },
  {
   "cell_type": "code",
   "execution_count": 36,
   "id": "dc6bd7a4",
   "metadata": {},
   "outputs": [
    {
     "data": {
      "text/html": [
       "<div>\n",
       "<style scoped>\n",
       "    .dataframe tbody tr th:only-of-type {\n",
       "        vertical-align: middle;\n",
       "    }\n",
       "\n",
       "    .dataframe tbody tr th {\n",
       "        vertical-align: top;\n",
       "    }\n",
       "\n",
       "    .dataframe thead th {\n",
       "        text-align: right;\n",
       "    }\n",
       "</style>\n",
       "<table border=\"1\" class=\"dataframe\">\n",
       "  <thead>\n",
       "    <tr style=\"text-align: right;\">\n",
       "      <th></th>\n",
       "      <th>Marketing Spend</th>\n",
       "      <th>Administration</th>\n",
       "      <th>Transport</th>\n",
       "      <th>Area</th>\n",
       "      <th>Profit</th>\n",
       "    </tr>\n",
       "  </thead>\n",
       "  <tbody>\n",
       "    <tr>\n",
       "      <th>45</th>\n",
       "      <td>1000.23</td>\n",
       "      <td>124153.04</td>\n",
       "      <td>1903.93</td>\n",
       "      <td>Dhaka</td>\n",
       "      <td>64926.08</td>\n",
       "    </tr>\n",
       "    <tr>\n",
       "      <th>46</th>\n",
       "      <td>1315.46</td>\n",
       "      <td>115816.21</td>\n",
       "      <td>297114.46</td>\n",
       "      <td>Rangpur</td>\n",
       "      <td>49490.75</td>\n",
       "    </tr>\n",
       "    <tr>\n",
       "      <th>47</th>\n",
       "      <td>0.00</td>\n",
       "      <td>135426.92</td>\n",
       "      <td>0.00</td>\n",
       "      <td>Ctg</td>\n",
       "      <td>42559.73</td>\n",
       "    </tr>\n",
       "    <tr>\n",
       "      <th>48</th>\n",
       "      <td>542.05</td>\n",
       "      <td>51743.15</td>\n",
       "      <td>0.00</td>\n",
       "      <td>Dhaka</td>\n",
       "      <td>35673.41</td>\n",
       "    </tr>\n",
       "    <tr>\n",
       "      <th>49</th>\n",
       "      <td>0.00</td>\n",
       "      <td>116983.80</td>\n",
       "      <td>45173.06</td>\n",
       "      <td>Ctg</td>\n",
       "      <td>14681.40</td>\n",
       "    </tr>\n",
       "  </tbody>\n",
       "</table>\n",
       "</div>"
      ],
      "text/plain": [
       "    Marketing Spend  Administration  Transport     Area    Profit\n",
       "45          1000.23       124153.04    1903.93    Dhaka  64926.08\n",
       "46          1315.46       115816.21  297114.46  Rangpur  49490.75\n",
       "47             0.00       135426.92       0.00      Ctg  42559.73\n",
       "48           542.05        51743.15       0.00    Dhaka  35673.41\n",
       "49             0.00       116983.80   45173.06      Ctg  14681.40"
      ]
     },
     "execution_count": 36,
     "metadata": {},
     "output_type": "execute_result"
    }
   ],
   "source": [
    "df.tail()"
   ]
  },
  {
   "cell_type": "code",
   "execution_count": 7,
   "id": "72ab97b5",
   "metadata": {},
   "outputs": [
    {
     "data": {
      "text/plain": [
       "(50, 5)"
      ]
     },
     "execution_count": 7,
     "metadata": {},
     "output_type": "execute_result"
    }
   ],
   "source": [
    "df.shape"
   ]
  },
  {
   "cell_type": "code",
   "execution_count": 8,
   "id": "6bc4d880",
   "metadata": {},
   "outputs": [
    {
     "data": {
      "text/plain": [
       "Marketing Spend    float64\n",
       "Administration     float64\n",
       "Transport          float64\n",
       "Area                object\n",
       "Profit             float64\n",
       "dtype: object"
      ]
     },
     "execution_count": 8,
     "metadata": {},
     "output_type": "execute_result"
    }
   ],
   "source": [
    "df.dtypes"
   ]
  },
  {
   "cell_type": "code",
   "execution_count": 9,
   "id": "004c125f",
   "metadata": {},
   "outputs": [],
   "source": [
    "X = df.iloc[:, [0,1,2,4]]\n",
    "y = df.iloc[:, 3]"
   ]
  },
  {
   "cell_type": "code",
   "execution_count": 12,
   "id": "5c7eb9a2",
   "metadata": {},
   "outputs": [
    {
     "data": {
      "text/html": [
       "<div>\n",
       "<style scoped>\n",
       "    .dataframe tbody tr th:only-of-type {\n",
       "        vertical-align: middle;\n",
       "    }\n",
       "\n",
       "    .dataframe tbody tr th {\n",
       "        vertical-align: top;\n",
       "    }\n",
       "\n",
       "    .dataframe thead th {\n",
       "        text-align: right;\n",
       "    }\n",
       "</style>\n",
       "<table border=\"1\" class=\"dataframe\">\n",
       "  <thead>\n",
       "    <tr style=\"text-align: right;\">\n",
       "      <th></th>\n",
       "      <th>Marketing Spend</th>\n",
       "      <th>Administration</th>\n",
       "      <th>Transport</th>\n",
       "      <th>Profit</th>\n",
       "    </tr>\n",
       "  </thead>\n",
       "  <tbody>\n",
       "    <tr>\n",
       "      <th>0</th>\n",
       "      <td>114523.61</td>\n",
       "      <td>136897.80</td>\n",
       "      <td>471784.10</td>\n",
       "      <td>192261.83</td>\n",
       "    </tr>\n",
       "    <tr>\n",
       "      <th>1</th>\n",
       "      <td>162597.70</td>\n",
       "      <td>151377.59</td>\n",
       "      <td>443898.53</td>\n",
       "      <td>191792.06</td>\n",
       "    </tr>\n",
       "    <tr>\n",
       "      <th>2</th>\n",
       "      <td>153441.51</td>\n",
       "      <td>101145.55</td>\n",
       "      <td>407934.54</td>\n",
       "      <td>191050.39</td>\n",
       "    </tr>\n",
       "    <tr>\n",
       "      <th>3</th>\n",
       "      <td>144372.41</td>\n",
       "      <td>118671.85</td>\n",
       "      <td>383199.62</td>\n",
       "      <td>182901.99</td>\n",
       "    </tr>\n",
       "    <tr>\n",
       "      <th>4</th>\n",
       "      <td>142107.34</td>\n",
       "      <td>91391.77</td>\n",
       "      <td>366168.42</td>\n",
       "      <td>166187.94</td>\n",
       "    </tr>\n",
       "  </tbody>\n",
       "</table>\n",
       "</div>"
      ],
      "text/plain": [
       "   Marketing Spend  Administration  Transport     Profit\n",
       "0        114523.61       136897.80  471784.10  192261.83\n",
       "1        162597.70       151377.59  443898.53  191792.06\n",
       "2        153441.51       101145.55  407934.54  191050.39\n",
       "3        144372.41       118671.85  383199.62  182901.99\n",
       "4        142107.34        91391.77  366168.42  166187.94"
      ]
     },
     "execution_count": 12,
     "metadata": {},
     "output_type": "execute_result"
    }
   ],
   "source": [
    "X.head()"
   ]
  },
  {
   "cell_type": "code",
   "execution_count": 13,
   "id": "d343dad5",
   "metadata": {},
   "outputs": [],
   "source": [
    "from sklearn.model_selection import train_test_split\n",
    "from sklearn.preprocessing import StandardScaler"
   ]
  },
  {
   "cell_type": "code",
   "execution_count": 14,
   "id": "a88c2882",
   "metadata": {},
   "outputs": [],
   "source": [
    "X_train, X_test, y_train, y_test = train_test_split(X, y, test_size=.30)"
   ]
  },
  {
   "cell_type": "code",
   "execution_count": 17,
   "id": "00346cb8",
   "metadata": {},
   "outputs": [
    {
     "data": {
      "text/html": [
       "<div>\n",
       "<style scoped>\n",
       "    .dataframe tbody tr th:only-of-type {\n",
       "        vertical-align: middle;\n",
       "    }\n",
       "\n",
       "    .dataframe tbody tr th {\n",
       "        vertical-align: top;\n",
       "    }\n",
       "\n",
       "    .dataframe thead th {\n",
       "        text-align: right;\n",
       "    }\n",
       "</style>\n",
       "<table border=\"1\" class=\"dataframe\">\n",
       "  <thead>\n",
       "    <tr style=\"text-align: right;\">\n",
       "      <th></th>\n",
       "      <th>Marketing Spend</th>\n",
       "      <th>Administration</th>\n",
       "      <th>Transport</th>\n",
       "      <th>Profit</th>\n",
       "    </tr>\n",
       "  </thead>\n",
       "  <tbody>\n",
       "    <tr>\n",
       "      <th>47</th>\n",
       "      <td>0.00</td>\n",
       "      <td>135426.92</td>\n",
       "      <td>0.00</td>\n",
       "      <td>42559.73</td>\n",
       "    </tr>\n",
       "    <tr>\n",
       "      <th>11</th>\n",
       "      <td>100671.96</td>\n",
       "      <td>91790.61</td>\n",
       "      <td>249744.55</td>\n",
       "      <td>144259.40</td>\n",
       "    </tr>\n",
       "    <tr>\n",
       "      <th>17</th>\n",
       "      <td>94657.16</td>\n",
       "      <td>145077.58</td>\n",
       "      <td>282574.31</td>\n",
       "      <td>125370.37</td>\n",
       "    </tr>\n",
       "    <tr>\n",
       "      <th>46</th>\n",
       "      <td>1315.46</td>\n",
       "      <td>115816.21</td>\n",
       "      <td>297114.46</td>\n",
       "      <td>49490.75</td>\n",
       "    </tr>\n",
       "    <tr>\n",
       "      <th>5</th>\n",
       "      <td>131876.90</td>\n",
       "      <td>99814.71</td>\n",
       "      <td>362861.36</td>\n",
       "      <td>156991.12</td>\n",
       "    </tr>\n",
       "  </tbody>\n",
       "</table>\n",
       "</div>"
      ],
      "text/plain": [
       "    Marketing Spend  Administration  Transport     Profit\n",
       "47             0.00       135426.92       0.00   42559.73\n",
       "11        100671.96        91790.61  249744.55  144259.40\n",
       "17         94657.16       145077.58  282574.31  125370.37\n",
       "46          1315.46       115816.21  297114.46   49490.75\n",
       "5         131876.90        99814.71  362861.36  156991.12"
      ]
     },
     "execution_count": 17,
     "metadata": {},
     "output_type": "execute_result"
    }
   ],
   "source": [
    "X_train.head()"
   ]
  },
  {
   "cell_type": "code",
   "execution_count": 18,
   "id": "22c1f948",
   "metadata": {},
   "outputs": [],
   "source": [
    "scaler = StandardScaler().fit(X_train)"
   ]
  },
  {
   "cell_type": "code",
   "execution_count": 19,
   "id": "58011a4d",
   "metadata": {},
   "outputs": [
    {
     "data": {
      "text/plain": [
       "StandardScaler()"
      ]
     },
     "execution_count": 19,
     "metadata": {},
     "output_type": "execute_result"
    }
   ],
   "source": [
    "scaler"
   ]
  },
  {
   "cell_type": "code",
   "execution_count": 20,
   "id": "9d117b56",
   "metadata": {},
   "outputs": [
    {
     "data": {
      "text/plain": [
       "array([ 70121.03314286, 126188.22885714, 205875.208     , 110277.60571429])"
      ]
     },
     "execution_count": 20,
     "metadata": {},
     "output_type": "execute_result"
    }
   ],
   "source": [
    "scaler.mean_"
   ]
  },
  {
   "cell_type": "code",
   "execution_count": 21,
   "id": "e4030bf6",
   "metadata": {},
   "outputs": [
    {
     "data": {
      "text/plain": [
       "array([ 42258.18828344,  24873.80161179, 114191.52844158,  38957.6614227 ])"
      ]
     },
     "execution_count": 21,
     "metadata": {},
     "output_type": "execute_result"
    }
   ],
   "source": [
    "scaler.scale_"
   ]
  },
  {
   "cell_type": "code",
   "execution_count": 23,
   "id": "b0760c6d",
   "metadata": {},
   "outputs": [],
   "source": [
    "X_train_scaled = scaler.transform(X_train)"
   ]
  },
  {
   "cell_type": "code",
   "execution_count": 24,
   "id": "a592bb6c",
   "metadata": {},
   "outputs": [
    {
     "data": {
      "text/plain": [
       "array([[-1.65934783,  0.37142256, -1.80289388, -1.73824283],\n",
       "       [ 0.72295875, -1.38288547,  0.38417335,  0.872275  ],\n",
       "       [ 0.5806242 ,  0.75940749,  0.67167068,  0.38741454],\n",
       "       [-1.62821872, -0.41698567,  0.79900193, -1.56033123],\n",
       "       [ 1.4613941 , -1.06029305,  1.37476181,  1.19908415],\n",
       "       [-1.13453262,  1.15052422, -1.55476059, -1.15708372],\n",
       "       [-0.56071886,  1.26662147,  0.04310707, -0.34819353],\n",
       "       [ 1.424034  ,  0.77759851,  1.0333645 ,  1.16729271],\n",
       "       [-0.21261331,  1.06592838, -1.03034769, -0.32840898],\n",
       "       [-1.09990762, -1.20603193, -0.50681604, -0.99541693],\n",
       "       [ 0.14512754, -0.49533759,  0.81257571,  0.21039313],\n",
       "       [-0.34613607, -0.92992375,  0.07670974, -0.3464963 ],\n",
       "       [-0.09630117,  2.2697508 , -0.76824445, -0.17955969],\n",
       "       [-0.15883722,  0.12187044, -1.39931534, -0.32983925],\n",
       "       [-0.19230718, -0.42401837, -1.00483783, -0.26541675],\n",
       "       [ 0.12323853,  0.7215524 , -0.62898832, -0.11664113],\n",
       "       [ 0.51756494,  0.37416239,  0.40974775,  0.61681691],\n",
       "       [ 1.52619952,  0.84468958, -0.68444997,  1.17678789],\n",
       "       [ 1.25925528, -0.70391568,  0.86789636,  1.01346828],\n",
       "       [ 1.05074492,  0.43055627,  2.32862188,  2.10444419],\n",
       "       [ 0.18675852, -0.1845588 ,  0.51204194,  0.42906385],\n",
       "       [ 1.19317673,  0.90580127,  0.92597133,  1.07640353],\n",
       "       [-1.63567834, -0.08182058, -1.78622075, -1.16412341],\n",
       "       [-1.18063375, -2.42183723, -0.18048719, -0.74564398],\n",
       "       [ 1.97170017, -1.00678936,  1.76947743,  2.07334787],\n",
       "       [-1.65934783, -0.37004512, -1.40730359, -2.45384867],\n",
       "       [-0.06125448, -0.82163552,  0.86603204, -0.0396229 ],\n",
       "       [ 0.16382569, -1.08173609, -0.57184976, -0.04429336],\n",
       "       [ 1.17899534,  1.2205288 ,  0.44344543,  0.57305915],\n",
       "       [ 0.56184891,  0.04551581,  0.38500432,  0.80363947],\n",
       "       [-0.57046963, -1.65398074, -0.0031313 , -0.35418183],\n",
       "       [ 0.19566473,  1.10900624,  0.82197062,  0.02657794],\n",
       "       [-0.10685629,  1.07920098, -0.86465983, -0.23802675],\n",
       "       [-0.9810471 ,  0.0348954 , -0.04158266, -0.50232522],\n",
       "       [-0.97890385, -0.30723807, -0.28968469, -0.82237215]])"
      ]
     },
     "execution_count": 24,
     "metadata": {},
     "output_type": "execute_result"
    }
   ],
   "source": [
    "X_train_scaled"
   ]
  },
  {
   "cell_type": "code",
   "execution_count": 25,
   "id": "10b9e656",
   "metadata": {},
   "outputs": [
    {
     "data": {
      "text/plain": [
       "array([ 1.39570895e-16, -8.43769499e-16, -1.17366434e-16, -8.88178420e-17])"
      ]
     },
     "execution_count": 25,
     "metadata": {},
     "output_type": "execute_result"
    }
   ],
   "source": [
    "X_train_scaled.mean(axis=0) # what is the meaning of axis = 0"
   ]
  },
  {
   "cell_type": "code",
   "execution_count": 26,
   "id": "519d57e6",
   "metadata": {},
   "outputs": [
    {
     "data": {
      "text/plain": [
       "array([1., 1., 1., 1.])"
      ]
     },
     "execution_count": 26,
     "metadata": {},
     "output_type": "execute_result"
    }
   ],
   "source": [
    "X_train_scaled.std(axis=0)"
   ]
  },
  {
   "cell_type": "code",
   "execution_count": 29,
   "id": "3941a507",
   "metadata": {},
   "outputs": [
    {
     "data": {
      "text/html": [
       "<div>\n",
       "<style scoped>\n",
       "    .dataframe tbody tr th:only-of-type {\n",
       "        vertical-align: middle;\n",
       "    }\n",
       "\n",
       "    .dataframe tbody tr th {\n",
       "        vertical-align: top;\n",
       "    }\n",
       "\n",
       "    .dataframe thead th {\n",
       "        text-align: right;\n",
       "    }\n",
       "</style>\n",
       "<table border=\"1\" class=\"dataframe\">\n",
       "  <thead>\n",
       "    <tr style=\"text-align: right;\">\n",
       "      <th></th>\n",
       "      <th>Marketing Spend</th>\n",
       "      <th>Administration</th>\n",
       "      <th>Transport</th>\n",
       "      <th>Profit</th>\n",
       "    </tr>\n",
       "  </thead>\n",
       "  <tbody>\n",
       "    <tr>\n",
       "      <th>39</th>\n",
       "      <td>38558.51</td>\n",
       "      <td>82982.09</td>\n",
       "      <td>174999.30</td>\n",
       "      <td>81005.76</td>\n",
       "    </tr>\n",
       "    <tr>\n",
       "      <th>27</th>\n",
       "      <td>72107.60</td>\n",
       "      <td>127864.55</td>\n",
       "      <td>353183.81</td>\n",
       "      <td>105008.31</td>\n",
       "    </tr>\n",
       "    <tr>\n",
       "      <th>10</th>\n",
       "      <td>101913.08</td>\n",
       "      <td>110594.11</td>\n",
       "      <td>229160.95</td>\n",
       "      <td>146121.95</td>\n",
       "    </tr>\n",
       "    <tr>\n",
       "      <th>15</th>\n",
       "      <td>165349.20</td>\n",
       "      <td>122616.84</td>\n",
       "      <td>261776.23</td>\n",
       "      <td>129917.04</td>\n",
       "    </tr>\n",
       "    <tr>\n",
       "      <th>1</th>\n",
       "      <td>162597.70</td>\n",
       "      <td>151377.59</td>\n",
       "      <td>443898.53</td>\n",
       "      <td>191792.06</td>\n",
       "    </tr>\n",
       "  </tbody>\n",
       "</table>\n",
       "</div>"
      ],
      "text/plain": [
       "    Marketing Spend  Administration  Transport     Profit\n",
       "39         38558.51        82982.09  174999.30   81005.76\n",
       "27         72107.60       127864.55  353183.81  105008.31\n",
       "10        101913.08       110594.11  229160.95  146121.95\n",
       "15        165349.20       122616.84  261776.23  129917.04\n",
       "1         162597.70       151377.59  443898.53  191792.06"
      ]
     },
     "execution_count": 29,
     "metadata": {},
     "output_type": "execute_result"
    }
   ],
   "source": [
    "X_test.head()"
   ]
  },
  {
   "cell_type": "code",
   "execution_count": 27,
   "id": "74e4affd",
   "metadata": {},
   "outputs": [],
   "source": [
    "scaler = StandardScaler().fit(X_test)"
   ]
  },
  {
   "cell_type": "code",
   "execution_count": 28,
   "id": "e13eff63",
   "metadata": {},
   "outputs": [
    {
     "data": {
      "text/plain": [
       "array([ 82122.97466667, 110042.93133333, 238973.04357143, 116061.05066667])"
      ]
     },
     "execution_count": 28,
     "metadata": {},
     "output_type": "execute_result"
    }
   ],
   "source": [
    "scaler.mean_"
   ]
  },
  {
   "cell_type": "code",
   "execution_count": 30,
   "id": "344caec2",
   "metadata": {},
   "outputs": [
    {
     "data": {
      "text/plain": [
       "array([ 51140.29354608,  30630.17512394, 125358.43945755,  41740.57626246])"
      ]
     },
     "execution_count": 30,
     "metadata": {},
     "output_type": "execute_result"
    }
   ],
   "source": [
    "scaler.scale_"
   ]
  },
  {
   "cell_type": "code",
   "execution_count": 31,
   "id": "b89be743",
   "metadata": {},
   "outputs": [
    {
     "data": {
      "text/plain": [
       "array([[-0.85186184, -0.88347002, -0.51032658, -0.83983725],\n",
       "       [-0.19584117,  0.58183209,  0.91107361, -0.26479607],\n",
       "       [ 0.38697676,  0.01799463, -0.0782723 ,  0.7201841 ],\n",
       "       [ 1.62741   ,  0.41050724,  0.18190388,  0.33195491],\n",
       "       [ 1.57360703,  1.3494751 ,  1.63471632,  1.81432592],\n",
       "       [ 1.21722875,  0.281713  ,  1.1505135 ,  1.60134203],\n",
       "       [-0.34137983,  0.9634365 , -0.80577282, -0.20739318],\n",
       "       [-1.06041735, -0.82703286, -0.59431446, -0.91666728],\n",
       "       [-1.59523771, -1.9033447 , -1.90631795, -1.92588718],\n",
       "       [ 0.08401839,  1.41922723,         nan,  0.16089403],\n",
       "       [-1.30263712,  0.56608781, -1.62285742, -1.10928202],\n",
       "       [-0.74409085, -1.91836289, -0.33458955, -0.62557619],\n",
       "       [ 1.17293745, -0.60891462,  1.01465348,  1.20091512],\n",
       "       [-0.15894345,  0.41592379,  0.51329784, -0.13676861],\n",
       "       [ 0.18823094,  0.13492769,  0.44629246,  0.19659166]])"
      ]
     },
     "execution_count": 31,
     "metadata": {},
     "output_type": "execute_result"
    }
   ],
   "source": [
    "scaler.transform(X_test)"
   ]
  },
  {
   "cell_type": "code",
   "execution_count": 32,
   "id": "2068baee",
   "metadata": {},
   "outputs": [
    {
     "data": {
      "text/plain": [
       "array([[-1.65934783,  0.37142256, -1.80289388, -1.73824283],\n",
       "       [ 0.72295875, -1.38288547,  0.38417335,  0.872275  ],\n",
       "       [ 0.5806242 ,  0.75940749,  0.67167068,  0.38741454],\n",
       "       [-1.62821872, -0.41698567,  0.79900193, -1.56033123],\n",
       "       [ 1.4613941 , -1.06029305,  1.37476181,  1.19908415],\n",
       "       [-1.13453262,  1.15052422, -1.55476059, -1.15708372],\n",
       "       [-0.56071886,  1.26662147,  0.04310707, -0.34819353],\n",
       "       [ 1.424034  ,  0.77759851,  1.0333645 ,  1.16729271],\n",
       "       [-0.21261331,  1.06592838, -1.03034769, -0.32840898],\n",
       "       [-1.09990762, -1.20603193, -0.50681604, -0.99541693],\n",
       "       [ 0.14512754, -0.49533759,  0.81257571,  0.21039313],\n",
       "       [-0.34613607, -0.92992375,  0.07670974, -0.3464963 ],\n",
       "       [-0.09630117,  2.2697508 , -0.76824445, -0.17955969],\n",
       "       [-0.15883722,  0.12187044, -1.39931534, -0.32983925],\n",
       "       [-0.19230718, -0.42401837, -1.00483783, -0.26541675],\n",
       "       [ 0.12323853,  0.7215524 , -0.62898832, -0.11664113],\n",
       "       [ 0.51756494,  0.37416239,  0.40974775,  0.61681691],\n",
       "       [ 1.52619952,  0.84468958, -0.68444997,  1.17678789],\n",
       "       [ 1.25925528, -0.70391568,  0.86789636,  1.01346828],\n",
       "       [ 1.05074492,  0.43055627,  2.32862188,  2.10444419],\n",
       "       [ 0.18675852, -0.1845588 ,  0.51204194,  0.42906385],\n",
       "       [ 1.19317673,  0.90580127,  0.92597133,  1.07640353],\n",
       "       [-1.63567834, -0.08182058, -1.78622075, -1.16412341],\n",
       "       [-1.18063375, -2.42183723, -0.18048719, -0.74564398],\n",
       "       [ 1.97170017, -1.00678936,  1.76947743,  2.07334787],\n",
       "       [-1.65934783, -0.37004512, -1.40730359, -2.45384867],\n",
       "       [-0.06125448, -0.82163552,  0.86603204, -0.0396229 ],\n",
       "       [ 0.16382569, -1.08173609, -0.57184976, -0.04429336],\n",
       "       [ 1.17899534,  1.2205288 ,  0.44344543,  0.57305915],\n",
       "       [ 0.56184891,  0.04551581,  0.38500432,  0.80363947],\n",
       "       [-0.57046963, -1.65398074, -0.0031313 , -0.35418183],\n",
       "       [ 0.19566473,  1.10900624,  0.82197062,  0.02657794],\n",
       "       [-0.10685629,  1.07920098, -0.86465983, -0.23802675],\n",
       "       [-0.9810471 ,  0.0348954 , -0.04158266, -0.50232522],\n",
       "       [-0.97890385, -0.30723807, -0.28968469, -0.82237215]])"
      ]
     },
     "execution_count": 32,
     "metadata": {},
     "output_type": "execute_result"
    }
   ],
   "source": [
    "X_train_scaled"
   ]
  },
  {
   "cell_type": "code",
   "execution_count": 33,
   "id": "20015859",
   "metadata": {},
   "outputs": [
    {
     "data": {
      "text/plain": [
       "array([ 1.39570895e-16, -8.43769499e-16, -1.17366434e-16, -8.88178420e-17])"
      ]
     },
     "execution_count": 33,
     "metadata": {},
     "output_type": "execute_result"
    }
   ],
   "source": [
    "X_train_scaled.mean(axis=0)"
   ]
  },
  {
   "cell_type": "code",
   "execution_count": 34,
   "id": "d1ff0319",
   "metadata": {},
   "outputs": [
    {
     "data": {
      "text/plain": [
       "array([1., 1., 1., 1.])"
      ]
     },
     "execution_count": 34,
     "metadata": {},
     "output_type": "execute_result"
    }
   ],
   "source": [
    "X_train_scaled.std(axis=0)"
   ]
  },
  {
   "cell_type": "markdown",
   "id": "0a8eb2b8",
   "metadata": {},
   "source": [
    "# MinMaxScaler Sklearn"
   ]
  },
  {
   "cell_type": "code",
   "execution_count": 53,
   "id": "d3ab8afc",
   "metadata": {},
   "outputs": [],
   "source": [
    "from sklearn.preprocessing import MinMaxScaler"
   ]
  },
  {
   "cell_type": "code",
   "execution_count": 55,
   "id": "bd865c69",
   "metadata": {},
   "outputs": [
    {
     "data": {
      "text/html": [
       "<div>\n",
       "<style scoped>\n",
       "    .dataframe tbody tr th:only-of-type {\n",
       "        vertical-align: middle;\n",
       "    }\n",
       "\n",
       "    .dataframe tbody tr th {\n",
       "        vertical-align: top;\n",
       "    }\n",
       "\n",
       "    .dataframe thead th {\n",
       "        text-align: right;\n",
       "    }\n",
       "</style>\n",
       "<table border=\"1\" class=\"dataframe\">\n",
       "  <thead>\n",
       "    <tr style=\"text-align: right;\">\n",
       "      <th></th>\n",
       "      <th>Marketing Spend</th>\n",
       "      <th>Administration</th>\n",
       "      <th>Transport</th>\n",
       "      <th>Profit</th>\n",
       "    </tr>\n",
       "  </thead>\n",
       "  <tbody>\n",
       "    <tr>\n",
       "      <th>47</th>\n",
       "      <td>0.00</td>\n",
       "      <td>135426.92</td>\n",
       "      <td>0.00</td>\n",
       "      <td>42559.73</td>\n",
       "    </tr>\n",
       "    <tr>\n",
       "      <th>11</th>\n",
       "      <td>100671.96</td>\n",
       "      <td>91790.61</td>\n",
       "      <td>249744.55</td>\n",
       "      <td>144259.40</td>\n",
       "    </tr>\n",
       "    <tr>\n",
       "      <th>17</th>\n",
       "      <td>94657.16</td>\n",
       "      <td>145077.58</td>\n",
       "      <td>282574.31</td>\n",
       "      <td>125370.37</td>\n",
       "    </tr>\n",
       "    <tr>\n",
       "      <th>46</th>\n",
       "      <td>1315.46</td>\n",
       "      <td>115816.21</td>\n",
       "      <td>297114.46</td>\n",
       "      <td>49490.75</td>\n",
       "    </tr>\n",
       "    <tr>\n",
       "      <th>5</th>\n",
       "      <td>131876.90</td>\n",
       "      <td>99814.71</td>\n",
       "      <td>362861.36</td>\n",
       "      <td>156991.12</td>\n",
       "    </tr>\n",
       "  </tbody>\n",
       "</table>\n",
       "</div>"
      ],
      "text/plain": [
       "    Marketing Spend  Administration  Transport     Profit\n",
       "47             0.00       135426.92       0.00   42559.73\n",
       "11        100671.96        91790.61  249744.55  144259.40\n",
       "17         94657.16       145077.58  282574.31  125370.37\n",
       "46          1315.46       115816.21  297114.46   49490.75\n",
       "5         131876.90        99814.71  362861.36  156991.12"
      ]
     },
     "execution_count": 55,
     "metadata": {},
     "output_type": "execute_result"
    }
   ],
   "source": [
    "X_train.head()"
   ]
  },
  {
   "cell_type": "code",
   "execution_count": 73,
   "id": "10cc8626",
   "metadata": {},
   "outputs": [],
   "source": [
    "min_max_scaler = MinMaxScaler().fit(X_train)"
   ]
  },
  {
   "cell_type": "code",
   "execution_count": 81,
   "id": "ddd2009d",
   "metadata": {},
   "outputs": [
    {
     "data": {
      "text/plain": [
       "MinMaxScaler()"
      ]
     },
     "execution_count": 81,
     "metadata": {},
     "output_type": "execute_result"
    }
   ],
   "source": [
    "min_max_scaler"
   ]
  },
  {
   "cell_type": "code",
   "execution_count": 82,
   "id": "b6ebdf55",
   "metadata": {},
   "outputs": [
    {
     "data": {
      "text/plain": [
       "array([    0.  , 65947.93,     0.  , 14681.4 ])"
      ]
     },
     "execution_count": 82,
     "metadata": {},
     "output_type": "execute_result"
    }
   ],
   "source": [
    "min_max_scaler.data_min_"
   ]
  },
  {
   "cell_type": "code",
   "execution_count": 83,
   "id": "f99e4d4a",
   "metadata": {},
   "outputs": [
    {
     "data": {
      "text/plain": [
       "array([153441.51, 182645.56, 471784.1 , 192261.83])"
      ]
     },
     "execution_count": 83,
     "metadata": {},
     "output_type": "execute_result"
    }
   ],
   "source": [
    "min_max_scaler.data_max_"
   ]
  },
  {
   "cell_type": "code",
   "execution_count": 86,
   "id": "145dd085",
   "metadata": {},
   "outputs": [
    {
     "data": {
      "text/html": [
       "<div>\n",
       "<style scoped>\n",
       "    .dataframe tbody tr th:only-of-type {\n",
       "        vertical-align: middle;\n",
       "    }\n",
       "\n",
       "    .dataframe tbody tr th {\n",
       "        vertical-align: top;\n",
       "    }\n",
       "\n",
       "    .dataframe thead th {\n",
       "        text-align: right;\n",
       "    }\n",
       "</style>\n",
       "<table border=\"1\" class=\"dataframe\">\n",
       "  <thead>\n",
       "    <tr style=\"text-align: right;\">\n",
       "      <th></th>\n",
       "      <th>Marketing Spend</th>\n",
       "      <th>Administration</th>\n",
       "      <th>Transport</th>\n",
       "      <th>Profit</th>\n",
       "    </tr>\n",
       "  </thead>\n",
       "  <tbody>\n",
       "    <tr>\n",
       "      <th>count</th>\n",
       "      <td>35.000000</td>\n",
       "      <td>35.000000</td>\n",
       "      <td>35.000000</td>\n",
       "      <td>35.000000</td>\n",
       "    </tr>\n",
       "    <tr>\n",
       "      <th>mean</th>\n",
       "      <td>70121.033143</td>\n",
       "      <td>126188.228857</td>\n",
       "      <td>205875.208000</td>\n",
       "      <td>110277.605714</td>\n",
       "    </tr>\n",
       "    <tr>\n",
       "      <th>std</th>\n",
       "      <td>42875.128775</td>\n",
       "      <td>25236.942012</td>\n",
       "      <td>115858.646238</td>\n",
       "      <td>39526.416492</td>\n",
       "    </tr>\n",
       "    <tr>\n",
       "      <th>min</th>\n",
       "      <td>0.000000</td>\n",
       "      <td>65947.930000</td>\n",
       "      <td>0.000000</td>\n",
       "      <td>14681.400000</td>\n",
       "    </tr>\n",
       "    <tr>\n",
       "      <th>25%</th>\n",
       "      <td>37384.175000</td>\n",
       "      <td>107215.100000</td>\n",
       "      <td>122932.510000</td>\n",
       "      <td>93593.850000</td>\n",
       "    </tr>\n",
       "    <tr>\n",
       "      <th>50%</th>\n",
       "      <td>67532.530000</td>\n",
       "      <td>127056.210000</td>\n",
       "      <td>210797.670000</td>\n",
       "      <td>105733.540000</td>\n",
       "    </tr>\n",
       "    <tr>\n",
       "      <th>75%</th>\n",
       "      <td>97664.560000</td>\n",
       "      <td>146364.465000</td>\n",
       "      <td>297889.465000</td>\n",
       "      <td>137946.435000</td>\n",
       "    </tr>\n",
       "    <tr>\n",
       "      <th>max</th>\n",
       "      <td>153441.510000</td>\n",
       "      <td>182645.560000</td>\n",
       "      <td>471784.100000</td>\n",
       "      <td>192261.830000</td>\n",
       "    </tr>\n",
       "  </tbody>\n",
       "</table>\n",
       "</div>"
      ],
      "text/plain": [
       "       Marketing Spend  Administration      Transport         Profit\n",
       "count        35.000000       35.000000      35.000000      35.000000\n",
       "mean      70121.033143   126188.228857  205875.208000  110277.605714\n",
       "std       42875.128775    25236.942012  115858.646238   39526.416492\n",
       "min           0.000000    65947.930000       0.000000   14681.400000\n",
       "25%       37384.175000   107215.100000  122932.510000   93593.850000\n",
       "50%       67532.530000   127056.210000  210797.670000  105733.540000\n",
       "75%       97664.560000   146364.465000  297889.465000  137946.435000\n",
       "max      153441.510000   182645.560000  471784.100000  192261.830000"
      ]
     },
     "execution_count": 86,
     "metadata": {},
     "output_type": "execute_result"
    }
   ],
   "source": [
    "X_train.describe()"
   ]
  },
  {
   "cell_type": "code",
   "execution_count": 87,
   "id": "30ac1c85",
   "metadata": {},
   "outputs": [
    {
     "data": {
      "text/plain": [
       "(0, 1)"
      ]
     },
     "execution_count": 87,
     "metadata": {},
     "output_type": "execute_result"
    }
   ],
   "source": [
    "min_max_scaler.feature_range"
   ]
  },
  {
   "cell_type": "code",
   "execution_count": 84,
   "id": "a9145bdb",
   "metadata": {},
   "outputs": [],
   "source": [
    "X_train_min_max = min_max_scaler.transform(X_train)"
   ]
  },
  {
   "cell_type": "code",
   "execution_count": 85,
   "id": "113ad51f",
   "metadata": {},
   "outputs": [
    {
     "data": {
      "text/plain": [
       "array([[0.        , 0.59537619, 0.        , 0.15698988],\n",
       "       [0.65609339, 0.22144991, 0.52936195, 0.72968626],\n",
       "       [0.61689409, 0.67807418, 0.59894835, 0.62331739],\n",
       "       [0.00857304, 0.42732899, 0.62976785, 0.19602019],\n",
       "       [0.85946039, 0.29020966, 0.76912588, 0.80138177],\n",
       "       [0.14453547, 0.76143971, 0.06005866, 0.28448478],\n",
       "       [0.30256526, 0.78618555, 0.44680961, 0.46193942],\n",
       "       [0.84917132, 0.68195155, 0.68649342, 0.79440736],\n",
       "       [0.39843443, 0.74340833, 0.18698856, 0.46627976],\n",
       "       [0.15407128, 0.25914579, 0.31370517, 0.3199513 ],\n",
       "       [0.49695718, 0.41062848, 0.63305328, 0.58448237],\n",
       "       [0.36166191, 0.31799755, 0.45494286, 0.46231175],\n",
       "       [0.43046709, 1.        , 0.25042853, 0.49893437],\n",
       "       [0.4132445 , 0.54218479, 0.09768292, 0.46596599],\n",
       "       [0.40402679, 0.42582998, 0.19316302, 0.48009902],\n",
       "       [0.49092889, 0.67000547, 0.28413435, 0.51273747],\n",
       "       [0.5995274 , 0.59596018, 0.53555202, 0.67364377],\n",
       "       [0.87730797, 0.69625184, 0.27071031, 0.79649041],\n",
       "       [0.80379084, 0.36617059, 0.64644319, 0.7606613 ],\n",
       "       [0.74636655, 0.60798038, 1.        , 1.        ],\n",
       "       [0.50842246, 0.47687018, 0.56031151, 0.63245443],\n",
       "       [0.78559263, 0.70927764, 0.66049977, 0.77446805],\n",
       "       [0.00651864, 0.49876857, 0.0040356 , 0.28294041],\n",
       "       [0.1318391 , 0.        , 0.39269043, 0.37474659],\n",
       "       [1.        , 0.30161384, 0.8646636 , 0.99317808],\n",
       "       [0.        , 0.43733425, 0.09574943, 0.        ],\n",
       "       [0.44011904, 0.34107891, 0.64599195, 0.52963376],\n",
       "       [0.5021067 , 0.28563913, 0.29796428, 0.52860915],\n",
       "       [0.78168704, 0.77636101, 0.54370828, 0.66404417],\n",
       "       [0.61172332, 0.52590999, 0.52956308, 0.71462897],\n",
       "       [0.29987987, 0.16366665, 0.43561799, 0.4606257 ],\n",
       "       [0.51087525, 0.75259026, 0.63532724, 0.54415692],\n",
       "       [0.42756018, 0.74623735, 0.22709197, 0.48610784],\n",
       "       [0.18680577, 0.52364628, 0.42631115, 0.42812595],\n",
       "       [0.18739603, 0.45072141, 0.36626005, 0.35791393]])"
      ]
     },
     "execution_count": 85,
     "metadata": {},
     "output_type": "execute_result"
    }
   ],
   "source": [
    "X_train_min_max"
   ]
  },
  {
   "cell_type": "markdown",
   "id": "5c477e6b",
   "metadata": {},
   "source": [
    "# MaxAbsScaler"
   ]
  },
  {
   "cell_type": "code",
   "execution_count": 88,
   "id": "a9d2fe1b",
   "metadata": {},
   "outputs": [],
   "source": [
    "from sklearn.preprocessing import MaxAbsScaler"
   ]
  },
  {
   "cell_type": "code",
   "execution_count": null,
   "id": "917cab32",
   "metadata": {},
   "outputs": [],
   "source": [
    "max_abs_scaler = MaxAbsScaler().fit(X_train)"
   ]
  },
  {
   "cell_type": "code",
   "execution_count": 90,
   "id": "ce293694",
   "metadata": {},
   "outputs": [
    {
     "data": {
      "text/plain": [
       "array([153441.51, 182645.56, 471784.1 , 192261.83])"
      ]
     },
     "execution_count": 90,
     "metadata": {},
     "output_type": "execute_result"
    }
   ],
   "source": [
    "max_abs_scaler.max_abs_"
   ]
  },
  {
   "cell_type": "code",
   "execution_count": 92,
   "id": "f3975f4a",
   "metadata": {},
   "outputs": [
    {
     "data": {
      "text/html": [
       "<div>\n",
       "<style scoped>\n",
       "    .dataframe tbody tr th:only-of-type {\n",
       "        vertical-align: middle;\n",
       "    }\n",
       "\n",
       "    .dataframe tbody tr th {\n",
       "        vertical-align: top;\n",
       "    }\n",
       "\n",
       "    .dataframe thead th {\n",
       "        text-align: right;\n",
       "    }\n",
       "</style>\n",
       "<table border=\"1\" class=\"dataframe\">\n",
       "  <thead>\n",
       "    <tr style=\"text-align: right;\">\n",
       "      <th></th>\n",
       "      <th>Marketing Spend</th>\n",
       "      <th>Administration</th>\n",
       "      <th>Transport</th>\n",
       "      <th>Profit</th>\n",
       "    </tr>\n",
       "  </thead>\n",
       "  <tbody>\n",
       "    <tr>\n",
       "      <th>count</th>\n",
       "      <td>35.000000</td>\n",
       "      <td>35.000000</td>\n",
       "      <td>35.000000</td>\n",
       "      <td>35.000000</td>\n",
       "    </tr>\n",
       "    <tr>\n",
       "      <th>mean</th>\n",
       "      <td>70121.033143</td>\n",
       "      <td>126188.228857</td>\n",
       "      <td>205875.208000</td>\n",
       "      <td>110277.605714</td>\n",
       "    </tr>\n",
       "    <tr>\n",
       "      <th>std</th>\n",
       "      <td>42875.128775</td>\n",
       "      <td>25236.942012</td>\n",
       "      <td>115858.646238</td>\n",
       "      <td>39526.416492</td>\n",
       "    </tr>\n",
       "    <tr>\n",
       "      <th>min</th>\n",
       "      <td>0.000000</td>\n",
       "      <td>65947.930000</td>\n",
       "      <td>0.000000</td>\n",
       "      <td>14681.400000</td>\n",
       "    </tr>\n",
       "    <tr>\n",
       "      <th>25%</th>\n",
       "      <td>37384.175000</td>\n",
       "      <td>107215.100000</td>\n",
       "      <td>122932.510000</td>\n",
       "      <td>93593.850000</td>\n",
       "    </tr>\n",
       "    <tr>\n",
       "      <th>50%</th>\n",
       "      <td>67532.530000</td>\n",
       "      <td>127056.210000</td>\n",
       "      <td>210797.670000</td>\n",
       "      <td>105733.540000</td>\n",
       "    </tr>\n",
       "    <tr>\n",
       "      <th>75%</th>\n",
       "      <td>97664.560000</td>\n",
       "      <td>146364.465000</td>\n",
       "      <td>297889.465000</td>\n",
       "      <td>137946.435000</td>\n",
       "    </tr>\n",
       "    <tr>\n",
       "      <th>max</th>\n",
       "      <td>153441.510000</td>\n",
       "      <td>182645.560000</td>\n",
       "      <td>471784.100000</td>\n",
       "      <td>192261.830000</td>\n",
       "    </tr>\n",
       "  </tbody>\n",
       "</table>\n",
       "</div>"
      ],
      "text/plain": [
       "       Marketing Spend  Administration      Transport         Profit\n",
       "count        35.000000       35.000000      35.000000      35.000000\n",
       "mean      70121.033143   126188.228857  205875.208000  110277.605714\n",
       "std       42875.128775    25236.942012  115858.646238   39526.416492\n",
       "min           0.000000    65947.930000       0.000000   14681.400000\n",
       "25%       37384.175000   107215.100000  122932.510000   93593.850000\n",
       "50%       67532.530000   127056.210000  210797.670000  105733.540000\n",
       "75%       97664.560000   146364.465000  297889.465000  137946.435000\n",
       "max      153441.510000   182645.560000  471784.100000  192261.830000"
      ]
     },
     "execution_count": 92,
     "metadata": {},
     "output_type": "execute_result"
    }
   ],
   "source": [
    "X_train.describe()"
   ]
  },
  {
   "cell_type": "markdown",
   "id": "b1e981c0",
   "metadata": {},
   "source": [
    "# RobustScaler"
   ]
  },
  {
   "cell_type": "code",
   "execution_count": 94,
   "id": "faf15d0d",
   "metadata": {},
   "outputs": [],
   "source": [
    "from sklearn.preprocessing import RobustScaler"
   ]
  },
  {
   "cell_type": "code",
   "execution_count": 95,
   "id": "c2b11029",
   "metadata": {},
   "outputs": [],
   "source": [
    "robust_scaler = RobustScaler().fit(X_train)"
   ]
  },
  {
   "cell_type": "code",
   "execution_count": 96,
   "id": "0d738bf8",
   "metadata": {},
   "outputs": [
    {
     "data": {
      "text/plain": [
       "RobustScaler()"
      ]
     },
     "execution_count": 96,
     "metadata": {},
     "output_type": "execute_result"
    }
   ],
   "source": [
    "robust_scaler"
   ]
  }
 ],
 "metadata": {
  "kernelspec": {
   "display_name": "Python 3",
   "language": "python",
   "name": "python3"
  },
  "language_info": {
   "codemirror_mode": {
    "name": "ipython",
    "version": 3
   },
   "file_extension": ".py",
   "mimetype": "text/x-python",
   "name": "python",
   "nbconvert_exporter": "python",
   "pygments_lexer": "ipython3",
   "version": "3.8.8"
  }
 },
 "nbformat": 4,
 "nbformat_minor": 5
}
